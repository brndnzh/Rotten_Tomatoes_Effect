{
 "cells": [
  {
   "cell_type": "markdown",
   "metadata": {},
   "source": [
    "# The Rotten Tomatoes Effect\n",
    "\n",
    "## By: Brandon Zhao\n",
    "\n",
    "\n",
    "Growing up, my family would have \"Movie Night\" every Saturday, where we would all get together and watch some movie that my dad would pick out for us together. These movie nights are some of my favorite memories from my childhood, and they also instilled in me a love for the world of cinema. Even now, I continue to try to watch and learn about important films in cinema, and one my greatest resources in doing so has been Rotten Tomatoes.\n",
    "\n",
    "Practically everyone in the modern world who watches movies has heard of Rotten Tomatoes, but for those who have not, it is a Review-Aggregation Website for films and tv shows. It takes reviews from critics and uses them to gives films a rating out of 100, as well as a label of \"Fresh\" or \"Rotten\". It's by far one of the most popular about films, and I myself use it quite frequently to learn more about different films and decide which ones to watch.\n",
    "\n",
    "One day while using Rotten Tomatoes, I became curious about its origins and decided to look it up on Wikipedia. After reading about how the site came to be, I came to an interesting section of the Wikipedia page that talked about the site's influence on the film industry. (https://en.wikipedia.org/wiki/Rotten_Tomatoes#Influence) It stated how many film studios have come to dislike Rotten Tomatoes because of how much impact a bad rating on the site can have on the box office success of a film, named \"The Rotten Tomatoes Effect\". I was instantly interested in whether or not this phenomena was real. Will a bad rating or a \"Rotten\" label lead to less box office earnings? Will a good rating or a \"Fresh\" Label lead to more?\n",
    "\n",
    "In this data analysis project, I will be answering these questions. I will be looking into how reviews on Rotten Tomatoes impact a film's box office earnings. I will also attempt to create a model that will predict a film's earnings based on its reviews on Rotten Tomatoes."
   ]
  },
  {
   "cell_type": "markdown",
   "metadata": {},
   "source": [
    "These are the packages I will be using in this project"
   ]
  },
  {
   "cell_type": "code",
   "execution_count": 1,
   "metadata": {},
   "outputs": [],
   "source": [
    "import numpy as np\n",
    "import pandas as pd\n",
    "import matplotlib.pyplot as plt\n",
    "import seaborn as sns\n",
    "from pandasql import sqldf"
   ]
  },
  {
   "cell_type": "markdown",
   "metadata": {},
   "source": [
    "### Obtaining the Data\n",
    "\n",
    "For this data analysis project, I will be using two datasets of movies from Kaggle. The first is from https://www.kaggle.com/stefanoleone992/imdb-extensive-dataset, and it contains information taken from the IMDb pages of movies. The second is from https://www.kaggle.com/heyueyuan/rottentomatoesmoviesandcriticsdatasets/data, and it contains information taken from the Rotten Tomatoes pages of movies. The two datasets will need to be loaded into the workspace as \"imdb_movies.csv\" and \"rotten_tomatoes_movies.csv\" for this script to run properly."
   ]
  },
  {
   "cell_type": "code",
   "execution_count": 2,
   "metadata": {},
   "outputs": [],
   "source": [
    "imdb_df = pd.read_csv('imdb_movies.csv')\n",
    "rt_df = pd.read_csv('rotten_tomatoes_movies.csv')"
   ]
  },
  {
   "cell_type": "markdown",
   "metadata": {},
   "source": [
    "Here are the available fields from each original dataset."
   ]
  },
  {
   "cell_type": "code",
   "execution_count": 3,
   "metadata": {},
   "outputs": [
    {
     "name": "stdout",
     "output_type": "stream",
     "text": [
      "Field names of IMDb Dataset:\n",
      "Index(['imdb_title_id', 'title', 'original_title', 'year', 'date_published',\n",
      "       'genre', 'duration', 'country', 'language', 'director', 'writer',\n",
      "       'production_company', 'actors', 'description', 'avg_vote', 'votes',\n",
      "       'budget', 'usa_gross_income', 'worlwide_gross_income', 'metascore',\n",
      "       'reviews_from_users', 'reviews_from_critics'],\n",
      "      dtype='object')\n",
      "\n",
      "\n",
      "Field names of Rotten Tomatoes Dataset:\n",
      "Index(['rotten_tomatoes_link', 'movie_title', 'movie_info',\n",
      "       'critics_consensus', 'poster_image_url', 'rating', 'genre', 'directors',\n",
      "       'writers', 'cast', 'in_theaters_date', 'on_streaming_date',\n",
      "       'runtime_in_minutes', 'studio_name', 'tomatometer_status',\n",
      "       'tomatometer_rating', 'tomatometer_count', 'audience_status',\n",
      "       'audience_rating', 'audience_count', 'audience_top_critics_count',\n",
      "       'audience_fresh_critics_count', 'audience_rotten_critics_count'],\n",
      "      dtype='object')\n"
     ]
    }
   ],
   "source": [
    "print(\"Field names of IMDb Dataset:\")\n",
    "print(imdb_df.columns)\n",
    "print(\"\\n\")\n",
    "print(\"Field names of Rotten Tomatoes Dataset:\")\n",
    "print(rt_df.columns)"
   ]
  },
  {
   "cell_type": "markdown",
   "metadata": {},
   "source": [
    "### Cleaning the Data\n",
    "\n",
    "To get the necessary rows and fields from each dataset, I will be using the package pandasql. This allows for working with Pandas dataframes with SQL statements. I will be using this package because it allows for easier manipulation of dataframes and it allows me to practice my SQL querying skills. I will need the title, year, country, budget, and worlwide_gross_income from the IMDb Dataset and the tomatometer_status, tomatometer_rating, and audience_rating from the Rotten Tomatoes Dataset. Furthermore, I will need to filter for title matches between the two dataframes, budget and worlwide_gross_income values that aren't missing, and movies released after 1998, the year Rotten Tomatoes was founded."
   ]
  },
  {
   "cell_type": "code",
   "execution_count": 4,
   "metadata": {},
   "outputs": [],
   "source": [
    "movies_df = sqldf(\"\"\"SELECT title, year, country, budget, worlwide_gross_income AS income,\n",
    "                          tomatometer_status, tomatometer_rating, audience_rating \n",
    "                     FROM imdb_df\n",
    "                     INNER JOIN rt_df\n",
    "                     ON imdb_df.title = rt_df.movie_title\n",
    "                     WHERE year > 1998 AND budget IS NOT NULL AND worlwide_gross_income IS NOT NULL\"\"\", globals())"
   ]
  },
  {
   "cell_type": "markdown",
   "metadata": {},
   "source": [
    "This is information about the resulting dataframe to be used for the rest of this data analysis"
   ]
  },
  {
   "cell_type": "code",
   "execution_count": 5,
   "metadata": {
    "scrolled": false
   },
   "outputs": [
    {
     "name": "stdout",
     "output_type": "stream",
     "text": [
      "             title  year country      budget       income tomatometer_status  \\\n",
      "0   Kate & Leopold  2001     USA  $ 48000000   $ 76019048             Rotten   \n",
      "1  The Fantasticks  2000     USA  $ 10000000      $ 49666             Rotten   \n",
      "2          Glitter  2001     USA  $ 22000000    $ 5271666             Rotten   \n",
      "3    Baby Geniuses  1999     USA  $ 12000000   $ 36450736             Rotten   \n",
      "4      Three Kings  1999     USA  $ 75000000  $ 107752036    Certified Fresh   \n",
      "\n",
      "   tomatometer_rating  audience_rating  \n",
      "0                  50             62.0  \n",
      "1                  50             49.0  \n",
      "2                   7             48.0  \n",
      "3                   2             24.0  \n",
      "4                  94             77.0  \n",
      "\n",
      "\n",
      "              year  tomatometer_rating  audience_rating\n",
      "count  4706.000000         4706.000000      4685.000000\n",
      "mean   2008.980663           51.355291        57.370971\n",
      "std       5.622848           27.702189        19.372110\n",
      "min    1999.000000            0.000000         5.000000\n",
      "25%    2005.000000           27.000000        42.000000\n",
      "50%    2009.000000           51.000000        58.000000\n",
      "75%    2014.000000           76.000000        73.000000\n",
      "max    2019.000000          100.000000        97.000000\n",
      "\n",
      "\n",
      "title                  object\n",
      "year                    int64\n",
      "country                object\n",
      "budget                 object\n",
      "income                 object\n",
      "tomatometer_status     object\n",
      "tomatometer_rating      int64\n",
      "audience_rating       float64\n",
      "dtype: object\n"
     ]
    }
   ],
   "source": [
    "print(movies_df.head())\n",
    "print(\"\\n\")\n",
    "print(movies_df.describe())\n",
    "print(\"\\n\")\n",
    "print(movies_df.dtypes)"
   ]
  },
  {
   "cell_type": "code",
   "execution_count": null,
   "metadata": {},
   "outputs": [],
   "source": []
  }
 ],
 "metadata": {
  "kernelspec": {
   "display_name": "Python 3",
   "language": "python",
   "name": "python3"
  },
  "language_info": {
   "codemirror_mode": {
    "name": "ipython",
    "version": 3
   },
   "file_extension": ".py",
   "mimetype": "text/x-python",
   "name": "python",
   "nbconvert_exporter": "python",
   "pygments_lexer": "ipython3",
   "version": "3.7.6"
  }
 },
 "nbformat": 4,
 "nbformat_minor": 4
}
